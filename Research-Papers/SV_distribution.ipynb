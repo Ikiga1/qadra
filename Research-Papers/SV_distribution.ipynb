{
 "cells": [
  {
   "cell_type": "code",
   "execution_count": 1,
   "id": "automatic-celebrity",
   "metadata": {},
   "outputs": [
    {
     "name": "stderr",
     "output_type": "stream",
     "text": [
      "[nltk_data] Downloading package stopwords to\n",
      "[nltk_data]     /home/censored/nltk_data...\n",
      "[nltk_data]   Package stopwords is already up-to-date!\n"
     ]
    },
    {
     "data": {
      "text/plain": [
       "True"
      ]
     },
     "execution_count": 1,
     "metadata": {},
     "output_type": "execute_result"
    }
   ],
   "source": [
    "from sklearn.feature_extraction.text import CountVectorizer\n",
    "from matplotlib import pyplot as plt\n",
    "from nltk.corpus import stopwords\n",
    "import pandas as pd\n",
    "import numpy as np\n",
    "%matplotlib inline\n",
    "import matplotlib\n",
    "import random\n",
    "import nltk\n",
    "\n",
    "random_seed = 1234\n",
    "random.seed(random_seed)\n",
    "plt.rcParams['font.size'] = '12'\n",
    "nltk.download('stopwords')"
   ]
  },
  {
   "cell_type": "code",
   "execution_count": 2,
   "id": "bulgarian-capability",
   "metadata": {},
   "outputs": [],
   "source": [
    "## https://www.kaggle.com/harunshimanto/research-paper\n",
    "def preProcessing(titles):\n",
    "    num_titles = titles.size\n",
    "    clean_titles = []\n",
    "    stops = set(stopwords.words(\"english\"))\n",
    "    for i in range( 0, num_titles):\n",
    "        #letters_only = re.sub(\"[^a-zA-Z]\", \" \", titles[i])\n",
    "        words = titles[i].lower().split()\n",
    "        words = [w.lower() for w in words if not w in stops]\n",
    "        clean_titles.append(\" \".join(words))\n",
    "    return clean_titles\n",
    "\n",
    "data = pd.read_csv(\"./conferences.data\", header=0)\n",
    "titles, labels = data[\"Title\"],data[\"Conference\"]\n",
    "\n",
    "processed_titles = preProcessing(titles)\n",
    "\n",
    "# Count vectorizer:\n",
    "#   - Strips out “stop words”\n",
    "#   - Filters out terms that occur in more than half of the docs (max_df=0.5)\n",
    "#   - Filters out terms that occur in only one document (min_df=2).\n",
    "#   - Selects the 10,000 most frequently occuring words in the corpus.\n",
    "#   - Normalizes the vector (L2 norm of 1.0) to normalize the effect of \n",
    "#     document length on the tf-idf values. \n",
    "vectorizer = CountVectorizer(max_df=0.5, max_features=10000,\n",
    "\t\t\t\t\t\t\t min_df=2, stop_words='english',\n",
    "\t\t\t\t\t\t\t )\n",
    "X = vectorizer.fit_transform(processed_titles)\n",
    "X = X.todense()"
   ]
  },
  {
   "cell_type": "code",
   "execution_count": 3,
   "id": "announced-titanium",
   "metadata": {},
   "outputs": [
    {
     "data": {
      "image/png": "[encoded data removed]",
      "text/plain": [
       "<Figure size 432x288 with 1 Axes>"
      ]
     },
     "metadata": {
      "needs_background": "light"
     },
     "output_type": "display_data"
    }
   ],
   "source": [
    "U, E, V = np.linalg.svd(X, full_matrices=False)\n",
    "\n",
    "E2 = np.array([pow(e,2) for e in E]) # Computing the powers of 2\n",
    "E3 = E2/np.sum(E2) # Computing the Facttor score ratios\n",
    "\n",
    "plt.plot(E3, color=\"darkblue\")\n",
    "plt.grid()\n",
    "plt.xlabel(\"singular value index\")\n",
    "plt.ylabel(\"factor score ratio\")\n",
    "plt.savefig('ResearchPaper_sv_distribution.pdf', bbox_inches='tight')"
   ]
  },
  {
   "cell_type": "code",
   "execution_count": null,
   "id": "significant-forestry",
   "metadata": {},
   "outputs": [],
   "source": []
  }
 ],
 "metadata": {
  "kernelspec": {
   "display_name": "Python 3",
   "language": "python",
   "name": "python3"
  },
  "language_info": {
   "codemirror_mode": {
    "name": "ipython",
    "version": 3
   },
   "file_extension": ".py",
   "mimetype": "text/x-python",
   "name": "python",
   "nbconvert_exporter": "python",
   "pygments_lexer": "ipython3",
   "version": "3.6.9"
  }
 },
 "nbformat": 4,
 "nbformat_minor": 5
}
