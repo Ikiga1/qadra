{
 "cells": [
  {
   "cell_type": "code",
   "execution_count": 1,
   "metadata": {},
   "outputs": [],
   "source": [
    "from sklearn.model_selection import StratifiedKFold, cross_validate\n",
    "from sklearn.neighbors import KNeighborsClassifier\n",
    "from sklearn.datasets import fetch_openml\n",
    "from matplotlib import pyplot as plt\n",
    "from sklearn import decomposition\n",
    "from scipy.stats import truncnorm\n",
    "from collections import Counter\n",
    "from pprint import pprint\n",
    "from scipy import linalg\n",
    "import numpy as np\n",
    "%matplotlib inline\n",
    "import matplotlib\n",
    "import random\n",
    "import math\n",
    "import time\n",
    "import gc\n",
    "\n",
    "random_seed = 1234\n",
    "random.seed(random_seed)\n",
    "plt.rcParams['font.size'] = '12'"
   ]
  },
  {
   "cell_type": "code",
   "execution_count": 2,
   "metadata": {},
   "outputs": [],
   "source": [
    "## Computing the full singular value decomposition for the MNIST dataset\n",
    "X, y = fetch_openml(data_id=40996, return_X_y=True)\n",
    "\n",
    "#Remove mean before applying PCA\n",
    "X_mean0 = np.array(X - np.mean(X, axis = 0))\n",
    "\n",
    "U, E, V = np.linalg.svd(X_mean0, full_matrices=False)\n",
    "E2 = np.array([pow(e,2) for e in E]) # Computing the powers of 2\n",
    "E3 = E2/np.sum(E2) # Computing the Factor score ratios"
   ]
  },
  {
   "cell_type": "code",
   "execution_count": 3,
   "metadata": {},
   "outputs": [
    {
     "data": {
      "image/png": "[encoded data removed]",
      "text/plain": [
       "<Figure size 432x288 with 1 Axes>"
      ]
     },
     "metadata": {
      "needs_background": "light"
     },
     "output_type": "display_data"
    }
   ],
   "source": [
    "#### Distribution of the factor score ratios\n",
    "plt.plot(E3, color=\"darkblue\")\n",
    "plt.grid()\n",
    "plt.xlabel(\"singular value index\")\n",
    "plt.ylabel(\"factor score ratio\")\n",
    "plt.savefig('Fashion_MNIST_sv_distribution.pdf', bbox_inches='tight')"
   ]
  },
  {
   "cell_type": "code",
   "execution_count": 4,
   "metadata": {},
   "outputs": [],
   "source": [
    "class QuantumState(object):\n",
    "\t\"\"\"This class simulates a simple Quantum Register\"\"\"\n",
    "\tdef __init__(self, registers, amplitudes):\n",
    "\t\tsuper(QuantumState, self).__init__()\n",
    "\t\tself.registers = registers\n",
    "\n",
    "\t\t#Amplitudes must be normalized to have the right probabilities for each register\n",
    "\t\tself.norm_factor = math.sqrt(sum([pow(x, 2) for x in amplitudes]))\n",
    "\t\tself.amplitudes = [x/self.norm_factor for x in amplitudes]\n",
    "\t\t\n",
    "\t\t#Each register_i appears with probability amplitude_i^2\n",
    "\t\tself.probabilities = [pow(x, 2) for x in self.amplitudes]\n",
    "\t\tassert (len(self.registers) == len(self.amplitudes))\n",
    "\t\tassert (abs(sum(self.probabilities) - 1) < 0.0000000001)\n",
    "\n",
    "\tdef measure(self, n_times=1):\n",
    "\t\treturn random.choices(self.registers, weights=self.probabilities, k=n_times)\n",
    "\n",
    "\tdef get_state(self):\n",
    "\t\treturn {self.registers[i]:self.probabilities[i] for i in range(len(self.registers))}\n",
    "\n",
    "def estimate_wald(measurements):\n",
    "\tcounter=Counter(measurements)\n",
    "\testimate={x:counter[x]/len(measurements) for x in counter}\n",
    "\treturn estimate\n",
    "\n",
    "## Introduce +-epsilon error in a value\n",
    "def introduce_error(value, epsilon):\n",
    "    return value + truncnorm.rvs(-epsilon,epsilon, size=1)\n",
    "\n",
    "def coupon_collect(quantum_state):\n",
    "    counter = 0\n",
    "    collection_dict = {value:0 for value in quantum_state.get_state().keys()}\n",
    "\n",
    "    # Until you don't collect all the values, keep sampling and increment the counter\n",
    "    while sum(collection_dict.values()) != len(collection_dict):\n",
    "        value = quantum_state.measure()[0]\n",
    "        if not collection_dict[value]:\n",
    "            collection_dict[value] = 1\n",
    "        counter += 1\n",
    "    return counter"
   ]
  },
  {
   "cell_type": "code",
   "execution_count": 5,
   "metadata": {
    "scrolled": true
   },
   "outputs": [
    {
     "name": "stdout",
     "output_type": "stream",
     "text": [
      "gamma: 0.03162277660168379\n",
      "1/gamma : 1000\n",
      "Estimated k \t- Estimated factor score ratios sum:\t\t45, 0.8510000000000003\n",
      "Estimated k \t- Real factor score ratios sum:\t\t\t45, 0.8543725984691466\n",
      "Real k \t\t- Real factor score ratios sum:\t\t\t43, 0.8507941476827812\n"
     ]
    }
   ],
   "source": [
    "#### Perform the sampling of the singular values to establish retained variance > 0.85\n",
    "measurements = 1000 # 1/gamma\n",
    "q_state = QuantumState(registers=E, amplitudes=E)\n",
    "estimations  = estimate_wald(q_state.measure(measurements))\n",
    "\n",
    "exp_var = 0\n",
    "i = 0\n",
    "sv = sorted(estimations.keys())\n",
    "while exp_var <= 0.85:\n",
    "    exp_var += estimations[sv[-i]]\n",
    "    i += 1\n",
    "k = i\n",
    "\n",
    "real_ext_exp_var = 0\n",
    "for i in range(k):\n",
    "    real_ext_exp_var += E3[i]\n",
    "\n",
    "real_exp_var = 0\n",
    "i=0\n",
    "while real_exp_var <= 0.85:\n",
    "    real_exp_var += E3[i]\n",
    "    i += 1\n",
    "real_k = i\n",
    "\n",
    "print(f\"gamma: {math.sqrt(1/measurements)}\")\n",
    "print(f\"1/gamma : 1000\")\n",
    "print(f\"Estimated k \\t- Estimated factor score ratios sum:\\t\\t{k}, {exp_var}\")\n",
    "print(f\"Estimated k \\t- Real factor score ratios sum:\\t\\t\\t{k}, {real_ext_exp_var}\")\n",
    "print(f\"Real k \\t\\t- Real factor score ratios sum:\\t\\t\\t{real_k}, {real_exp_var}\")"
   ]
  },
  {
   "cell_type": "code",
   "execution_count": 6,
   "metadata": {},
   "outputs": [],
   "source": [
    "#### Save plots of distribution of components - top-k right singular vectors\n",
    "Vs = np.sort(np.abs(V.T),axis=0)[::-1] # sort columns (abs components of singular vectors) in descending order\n",
    "for i in range(k):\n",
    "    fig = plt.figure()\n",
    "    plt.plot(Vs[:,i])\n",
    "    plt.xlabel(\"component\")\n",
    "    plt.ylabel(\"absolute magnitude\")\n",
    "    plt.savefig(f\"./rightvectors/Fashion_MNIST_rightSV_{i}.pdf\", bbox_inches='tight')\n",
    "    fig.clf()\n",
    "    plt.close(fig)\n",
    "    gc.collect()"
   ]
  },
  {
   "cell_type": "code",
   "execution_count": 7,
   "metadata": {},
   "outputs": [],
   "source": [
    "#### Save plots of distribution of components - top-k left singular vectors\n",
    "Us = np.sort(np.abs(U),axis=0)[::-1] # sort columns (abs components of singular vectors) in descending order\n",
    "for i in range(k):\n",
    "    fig = plt.figure()\n",
    "    plt.plot(Us[:,i])\n",
    "    plt.xlabel(\"component\")\n",
    "    plt.ylabel(\"absolute magnitude\")\n",
    "    plt.savefig(f\"./leftvectors/Fashion_MNIST_leftSV_{i}.pdf\", bbox_inches='tight')\n",
    "    fig.clf()\n",
    "    plt.close(fig)\n",
    "    gc.collect()"
   ]
  },
  {
   "cell_type": "code",
   "execution_count": 8,
   "metadata": {},
   "outputs": [
    {
     "name": "stdout",
     "output_type": "stream",
     "text": [
      "Smallest gap between singular values 31-32\n",
      "Epsilon to keep right order < 0.00038370124990193266\n",
      "Epsilon to apply threshold < 0.0009046065953983995\n"
     ]
    }
   ],
   "source": [
    "#### Compute epsilon for the low rank A with k=62\n",
    "#### epsilon have to be smaller than the smallest gap between (normalized) singular values\n",
    "NE = E/E[0]\n",
    "\n",
    "eps = 100\n",
    "index = 0\n",
    "for i in range(k):\n",
    "    if NE[i] - NE[i+1] < eps:\n",
    "        eps = NE[i] - NE[i+1]\n",
    "        index = i\n",
    "        \n",
    "print(f\"Smallest gap between singular values {index}-{index+1}\")\n",
    "print(f\"Epsilon to keep right order < {eps}\")\n",
    "print(f\"Epsilon to apply threshold < {NE[k-1]-NE[k]}\")"
   ]
  },
  {
   "cell_type": "code",
   "execution_count": 9,
   "metadata": {},
   "outputs": [
    {
     "name": "stdout",
     "output_type": "stream",
     "text": [
      "Frobenius norm for A = 1.8551458029927772\n",
      "Theta = 0.07763501799779342\n"
     ]
    }
   ],
   "source": [
    "#### Computing other run-time parameters for matrix A\n",
    "A = X_mean0/E[0]\n",
    "\n",
    "print(f\"Frobenius norm for A = {np.linalg.norm(A)}\")\n",
    "print(f\"Theta = {NE[k-1]}\")"
   ]
  },
  {
   "cell_type": "code",
   "execution_count": 10,
   "metadata": {},
   "outputs": [
    {
     "name": "stdout",
     "output_type": "stream",
     "text": [
      "Results computed on number of measurements: 1000\n",
      "Epsilons: [0.002, 0.004, 0.006, 0.008, 0.01, 0.02, 0.03, 0.04, 0.05, 0.06, 0.07, 0.08, 0.09, 0.1]\n",
      "Expected measurements: 195.66639530432263\n",
      "Experiment measurements: [199.762, 199.49, 197.707, 199.15, 203.28, 219.727, 232.513, 273.15, 350.039, 332.052, 586.524, 725.475, 1406.915, 4833.047]\n"
     ]
    }
   ],
   "source": [
    "#### Verify coupon collector for several epsilons\n",
    "q_state = QuantumState(registers=NE[:k], amplitudes=NE[:k])\n",
    "\n",
    "epsilons = [0.002, 0.004, 0.006, 0.008, 0.01, 0.02, 0.03, 0.04, 0.05, 0.06, 0.07, 0.08, 0.09, 0.1]\n",
    "n_trials = 1000\n",
    "\n",
    "avg_points = []\n",
    "for e in epsilons:\n",
    "    sve_singular_values = [introduce_error(singular_value, e) for singular_value in NE[:k]]\n",
    "    amplitudes = [NE[i]/sve_singular_values[i] for i in range(0,k)]\n",
    "    registers = [index for index in range(0,len(amplitudes))]\n",
    "\n",
    "    quantum_state = QuantumState(registers,amplitudes)\n",
    "    avg_points.append(np.average([coupon_collect(quantum_state) for x in range(n_trials)]))\n",
    "\n",
    "expected_points = [k*math.log(k,2.4) for i in range(len(epsilons))]\n",
    "\n",
    "print(f\"Results computed on number of measurements: {n_trials}\" )\n",
    "print(f\"Epsilons: {epsilons}\")\n",
    "print(f\"Expected measurements: {expected_points[0]}\")\n",
    "print(f\"Experiment measurements: {avg_points}\")"
   ]
  },
  {
   "cell_type": "code",
   "execution_count": 11,
   "metadata": {},
   "outputs": [
    {
     "data": {
      "image/png": "[encoded data removed]",
      "text/plain": [
       "<Figure size 432x288 with 1 Axes>"
      ]
     },
     "metadata": {
      "needs_background": "light"
     },
     "output_type": "display_data"
    }
   ],
   "source": [
    "#### Plot coupon collector\n",
    "plt.plot(epsilons,expected_points, color=\"crimson\", label='Benchmark')\n",
    "plt.plot(epsilons,avg_points, color=\"darkblue\", label='Experiment')\n",
    "\n",
    "plt.grid()\n",
    "plt.legend(loc=2)\n",
    "plt.xlabel(r\"$\\epsilon$\")\n",
    "plt.ylabel(\"average measurements required\")\n",
    "plt.savefig(f'Fashion_MNIST_Coupon_Collect{k}.pdf', bbox_inches='tight')"
   ]
  },
  {
   "cell_type": "code",
   "execution_count": 12,
   "metadata": {},
   "outputs": [],
   "source": [
    "#Given a vector it makes it noisy by adding gaussian error to each component\n",
    "def make_noisy_vec(vec, noise):\n",
    "    noise_per_component = noise/np.sqrt(len(vec))\n",
    "    errors = truncnorm.rvs(-noise_per_component,noise_per_component, size=len(vec))\n",
    "    new_vec = np.array([vec[i] + errors[i] for i in range(len(vec))])\n",
    "    return new_vec\n",
    "\n",
    "#Given a matrix it makes it noisy by adding gaussian error to each component\n",
    "def make_noisy_mat(A, noise):\n",
    "    vector_A = A.reshape(A.shape[0]*A.shape[1])\n",
    "    vector_B = make_noisy_vec(vector_A, noise)\n",
    "    B = vector_B.reshape(A.shape[0],A.shape[1])\n",
    "    return B"
   ]
  },
  {
   "cell_type": "code",
   "execution_count": 13,
   "metadata": {},
   "outputs": [
    {
     "data": {
      "image/png": "[encoded data removed]",
      "text/plain": [
       "<Figure size 432x288 with 1 Axes>"
      ]
     },
     "metadata": {
      "needs_background": "light"
     },
     "output_type": "display_data"
    }
   ],
   "source": [
    "## Check the distribution of the noisy function over 2000 samples\n",
    "#Create the original vector\n",
    "A = np.array([[3,4,2],\n",
    "     [5,6,6],\n",
    "     [9,4,7],\n",
    "     [1,0,8]])\n",
    "\n",
    "#Specify max noise in the Frobenius norm\n",
    "total_error = 0.01\n",
    "samples = []\n",
    "for i in range(2000):\n",
    "    #Create a noisy copy\n",
    "    B = make_noisy_mat(A, total_error)\n",
    "    #Append the Frobenius norm of A-B to the samples\n",
    "    samples.append(np.linalg.norm(A-B))\n",
    "\n",
    "#Plot the samples\n",
    "plt.hist(samples, bins=50, color=\"darkblue\")\n",
    "plt.xlabel(r\"$||\\mathbf{A} - \\overline{\\mathbf{A}}||_F$\")\n",
    "plt.ylabel(\"measurements\")\n",
    "plt.savefig('error_matrix_frobenious.pdf', bbox_inches='tight')"
   ]
  },
  {
   "cell_type": "code",
   "execution_count": 14,
   "metadata": {},
   "outputs": [],
   "source": [
    "#### Perform again PCA on the dataset to test for classification error. Use only the first k components\n",
    "\n",
    "#Fit PCA\n",
    "pca = decomposition.PCA(svd_solver=\"full\")\n",
    "pca.n_components = k\n",
    "pca_model = pca.fit(X_mean0)\n",
    "\n",
    "#Transform the features\n",
    "X_train_pca = pca_model.transform(X_mean0)\n",
    "#Scale the matrix with the spectral norm\n",
    "X_train_pca_scaled = X_train_pca/pca_model.singular_values_[0] # check Claim in PCA section, it's ok if we normalize here"
   ]
  },
  {
   "cell_type": "code",
   "execution_count": 15,
   "metadata": {},
   "outputs": [
    {
     "name": "stdout",
     "output_type": "stream",
     "text": [
      "10-fold Cross-validation - Real UE\n",
      "Tot time: 68.12641787528992\n",
      "Accuracy: 0.8617285714285714\n"
     ]
    }
   ],
   "source": [
    "#### Perform knn with k=7 on the exact matrix UE\n",
    "start = time.time()\n",
    "knn = KNeighborsClassifier(n_neighbors=7)\n",
    "score = cross_validate(knn,X_train_pca_scaled,y,cv=StratifiedKFold(n_splits=10,shuffle=True, random_state=random_seed), n_jobs=4)\n",
    "end = time.time()\n",
    "tot_time = end-start\n",
    "accuracy = np.average(score['test_score'])\n",
    "\n",
    "print(f\"10-fold Cross-validation - Real UE\")\n",
    "print(f\"Tot time: {tot_time}\")\n",
    "print(f\"Accuracy: {accuracy}\")"
   ]
  },
  {
   "cell_type": "code",
   "execution_count": null,
   "metadata": {},
   "outputs": [],
   "source": [
    "#### Perform knn with k=7 on the estimated matrix UE, with different errors\n",
    "start = time.time()\n",
    "accuracies = []\n",
    "k_sqrt = np.sqrt(pca.n_components)\n",
    "eps_delta = [0.8, 0.6, 0.4, 0.2, 0.1, 0.08, 0.06, 0.04, 0.02, 0.01, 0.008, 0.006, 0.004, 0.002, 0.0008]\n",
    "errors= [k_sqrt*error for error in eps_delta]\n",
    "for error in errors:\n",
    "    B = make_noisy_mat(X_train_pca_scaled, error)\n",
    "    f_norm = np.linalg.norm(X_train_pca_scaled-B)\n",
    "    score = cross_validate(knn,B,y,cv=StratifiedKFold(n_splits=10,shuffle=True, random_state=random_seed), n_jobs=4)\n",
    "    accuracies.append([error, f_norm, np.average(score['test_score'])])\n",
    "end = time.time()\n",
    "tot_time = end-start\n",
    "\n",
    "print(f\"10-fold Cross-validation - Estimated UE\")\n",
    "print(f\"Tot time: {tot_time}\")\n",
    "print(f\"(delta + epsilon): {eps_delta}\")\n",
    "print(f\"Error-F_norm-Accuracy: {accuracies}\")"
   ]
  },
  {
   "cell_type": "code",
   "execution_count": null,
   "metadata": {},
   "outputs": [],
   "source": [
    "#### plot accuracy with respect to (epsilon+delta) bound\n",
    "to_plot_x = eps_delta[:]\n",
    "to_plot_y = [exp[2] for exp in accuracies[:]]\n",
    "\n",
    "plt.plot(to_plot_x, [accuracy]*len(to_plot_x), color=\"crimson\", label='Benchmark')\n",
    "plt.plot(to_plot_x, to_plot_y, color=\"darkblue\", label='Experiment')\n",
    "\n",
    "plt.grid()\n",
    "plt.legend(loc=3)\n",
    "plt.xlabel(r\"($\\epsilon+\\delta$)\")\n",
    "plt.ylabel(\"accuracy\")\n",
    "plt.savefig('Fashion_MNIST_Classification_epsdelta.pdf', bbox_inches='tight')"
   ]
  },
  {
   "cell_type": "code",
   "execution_count": null,
   "metadata": {},
   "outputs": [],
   "source": [
    "#### plot accuracy with respect to full bound\n",
    "to_plot_x = [exp[0] for exp in accuracies[:]]\n",
    "\n",
    "plt.plot(to_plot_x, [accuracy]*len(to_plot_x), color=\"crimson\", label='Benchmark')\n",
    "plt.plot(to_plot_x, to_plot_y, color=\"darkblue\", label='Experiment')\n",
    "\n",
    "plt.grid()\n",
    "plt.legend(loc=3)\n",
    "plt.xlabel(r\"$\\sqrt{k}(\\epsilon+\\delta)$\")\n",
    "plt.ylabel(\"accuracy\")\n",
    "plt.savefig('Fashion_MNIST_Classification_bound.pdf', bbox_inches='tight')"
   ]
  },
  {
   "cell_type": "code",
   "execution_count": null,
   "metadata": {},
   "outputs": [],
   "source": [
    "#### plot accuracy with respect to real Fnorm error\n",
    "to_plot_x = [exp[1] for exp in accuracies[:]]\n",
    "\n",
    "plt.plot(to_plot_x, [accuracy]*len(to_plot_x), color=\"crimson\", label='Benchmark')\n",
    "plt.plot(to_plot_x, to_plot_y, color=\"darkblue\", label='Experiment')\n",
    "\n",
    "plt.grid()\n",
    "plt.legend(loc=3)\n",
    "plt.xlabel(r\"$||\\mathbf{U}\\Sigma - \\overline{\\mathbf{U}}\\overline{\\Sigma}||_F$\")\n",
    "plt.ylabel(\"accuracy\")\n",
    "plt.savefig('Fashion_MNIST_Classification_Fnorm.pdf', bbox_inches='tight')"
   ]
  },
  {
   "cell_type": "code",
   "execution_count": null,
   "metadata": {},
   "outputs": [],
   "source": [
    "#### plot accuracy with respect to the relative Fnorm error\n",
    "UE_norm = np.linalg.norm(X_train_pca_scaled)\n",
    "to_plot_x = [tupl[1]/UE_norm for tupl in accuracies[:]]\n",
    "\n",
    "plt.plot(to_plot_x, [accuracy]*len(to_plot_x), color=\"crimson\", label='Benchmark')\n",
    "plt.plot(to_plot_x, to_plot_y, color=\"darkblue\", label='Experiment')\n",
    "\n",
    "plt.grid()\n",
    "plt.legend(loc=3)\n",
    "plt.xlabel(r\"$(||\\mathbf{U}\\Sigma - \\overline{\\mathbf{U}}\\overline{\\Sigma}||_F)/||\\mathbf{U}\\Sigma||_F$\")\n",
    "plt.ylabel(\"accuracy\")\n",
    "plt.savefig('Fashion_MNIST_Classification_Fnorm_relative.pdf', bbox_inches='tight')"
   ]
  },
  {
   "cell_type": "code",
   "execution_count": null,
   "metadata": {},
   "outputs": [],
   "source": []
  }
 ],
 "metadata": {
  "kernelspec": {
   "display_name": "Python 3",
   "language": "python",
   "name": "python3"
  },
  "language_info": {
   "codemirror_mode": {
    "name": "ipython",
    "version": 3
   },
   "file_extension": ".py",
   "mimetype": "text/x-python",
   "name": "python",
   "nbconvert_exporter": "python",
   "pygments_lexer": "ipython3",
   "version": "3.8.9"
  }
 },
 "nbformat": 4,
 "nbformat_minor": 4
}
