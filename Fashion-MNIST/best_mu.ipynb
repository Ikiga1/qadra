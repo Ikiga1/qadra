{
 "cells": [
  {
   "cell_type": "code",
   "execution_count": 1,
   "metadata": {},
   "outputs": [],
   "source": [
    "from sklearn.datasets import fetch_openml\n",
    "import numpy as np\n",
    "import gc"
   ]
  },
  {
   "cell_type": "code",
   "execution_count": 2,
   "metadata": {},
   "outputs": [],
   "source": [
    "## Computing the full singular value decomposition for the F-MNIST dataset\n",
    "X, y = fetch_openml(data_id=40996, return_X_y=True)\n",
    "\n",
    "#Remove mean before applying PCA\n",
    "X_mean0 = np.array(X - np.mean(X, axis = 0))\n",
    "\n",
    "_, E, _ = np.linalg.svd(X_mean0, full_matrices=False)\n",
    "spectral_norm = E[0]\n",
    "A = X_mean0/spectral_norm"
   ]
  },
  {
   "cell_type": "code",
   "execution_count": 3,
   "metadata": {},
   "outputs": [],
   "source": [
    "def __mu(p, matrix):\n",
    "    def s(p, A):\n",
    "        if p == 0:\n",
    "            result = np.max([np.count_nonzero(A[i]) for i in range(len(A))])\n",
    "        else:\n",
    "            norms = np.sum(np.power(np.abs(A), p), axis=1)\n",
    "            result = max(norms)\n",
    "            del norms\n",
    "        gc.collect()\n",
    "        return result\n",
    "\n",
    "    s1 = s(2 * p, matrix)\n",
    "    s2 = s(2 * (1 - p), matrix.T)\n",
    "    mu = np.sqrt(s1 * s2)\n",
    "\n",
    "    gc.collect()\n",
    "    return mu\n",
    "\n",
    "def linear_search(matrix, start=0.0, end=1.0, step=0.05):\n",
    "    domain = [i for i in np.arange(start, end, step)] + [end]\n",
    "    values = [__mu(i, matrix) for i in domain]\n",
    "    best_p = domain[values.index(min(values))]\n",
    "    return best_p, min(values)\n",
    "\n",
    "def best_mu(matrix, start=0.0, end=1.0, step=0.05):\n",
    "    p, val = linear_search(matrix, start=start, end=end, step=step)\n",
    "    val_list = [val, np.linalg.norm(matrix)]\n",
    "    index = val_list.index(min(val_list))\n",
    "    if index == 0:\n",
    "        best_norm = f\"p={p}\"\n",
    "    elif index == 1:\n",
    "        best_norm = \"Frobenius\"        \n",
    "\n",
    "    return best_norm, val_list[index]"
   ]
  },
  {
   "cell_type": "code",
   "execution_count": 4,
   "metadata": {},
   "outputs": [
    {
     "name": "stdout",
     "output_type": "stream",
     "text": [
      "non-norm best:\tFrobenius\n",
      "non-norm mu:\t557058.9124795411\n",
      "norm best:\tFrobenius\n",
      "norm mu:\t1.855145802991925\n"
     ]
    }
   ],
   "source": [
    "res_nonnorm = best_mu(X_mean0, step=0.05)\n",
    "res_norm = best_mu(A, step=0.05)\n",
    "\n",
    "print(f\"non-norm best:\\t{res_nonnorm[0]}\")\n",
    "print(f\"non-norm mu:\\t{res_nonnorm[1]}\")\n",
    "print(f\"norm best:\\t{res_norm[0]}\")\n",
    "print(f\"norm mu:\\t{res_norm[1]}\")"
   ]
  },
  {
   "cell_type": "code",
   "execution_count": null,
   "metadata": {},
   "outputs": [],
   "source": []
  }
 ],
 "metadata": {
  "kernelspec": {
   "display_name": "Python 3",
   "language": "python",
   "name": "python3"
  },
  "language_info": {
   "codemirror_mode": {
    "name": "ipython",
    "version": 3
   },
   "file_extension": ".py",
   "mimetype": "text/x-python",
   "name": "python",
   "nbconvert_exporter": "python",
   "pygments_lexer": "ipython3",
   "version": "3.8.9"
  }
 },
 "nbformat": 4,
 "nbformat_minor": 4
}
