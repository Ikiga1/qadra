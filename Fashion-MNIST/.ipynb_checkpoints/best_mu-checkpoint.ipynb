{
 "cells": [
  {
   "cell_type": "code",
   "execution_count": 1,
   "metadata": {},
   "outputs": [],
   "source": [
    "from sklearn.datasets import fetch_openml\n",
    "import numpy as np\n",
    "import gc"
   ]
  },
  {
   "cell_type": "code",
   "execution_count": 2,
   "metadata": {},
   "outputs": [],
   "source": [
    "## Computing the full singular value decomposition for the MNIST dataset\n",
    "X, y = fetch_openml(data_id=40996, return_X_y=True)\n",
    "\n",
    "#Remove mean before applying PCA\n",
    "X_mean0 = np.array(X - np.mean(X, axis = 0))\n",
    "\n",
    "_, E, _ = np.linalg.svd(X_mean0, full_matrices=False)\n",
    "spectral_norm = E[0]\n",
    "A = X_mean0/spectral_norm"
   ]
  },
  {
   "cell_type": "code",
   "execution_count": 3,
   "metadata": {},
   "outputs": [],
   "source": [
    "def __mu(p, matrix):\n",
    "    def s(p, X):\n",
    "        norms = np.power(np.linalg.norm(X, p, axis=1), np.full(X.shape[0], p))\n",
    "        max_norms = max(norms)\n",
    "        return max_norms\n",
    "\n",
    "    s1 = s(2 * p, matrix)\n",
    "    s2 = s(2 * (1 - p), matrix.T)\n",
    "    mu = np.sqrt(s1 * s2)\n",
    "\n",
    "    gc.collect()\n",
    "    return mu\n",
    "\n",
    "def linear_search(matrix, start, step):\n",
    "    domain = [i for i in np.arange(start, 1.0, step)] + [1]\n",
    "    values = [__mu(i, matrix) for i in domain]\n",
    "    domain = domain\n",
    "    best_p = domain[values.index(min(values))]\n",
    "    return best_p, min(values)\n",
    "\n",
    "def best_mu(matrix, start, step):\n",
    "    p, val = linear_search(matrix, start, step)\n",
    "    val_list = [val, np.linalg.norm(matrix)]#, np.linalg.norm(A, ord=np.inf)]\n",
    "    index = val_list.index(min(val_list))\n",
    "    if index == 0:\n",
    "        best_norm = f\"p={p}\"\n",
    "    elif index == 1:\n",
    "        best_norm = \"Frobenius\"        \n",
    "#    elif index == 2:\n",
    "#        best_norm = \"l-infinity\"\n",
    "\n",
    "    return best_norm, val_list[index]"
   ]
  },
  {
   "cell_type": "code",
   "execution_count": null,
   "metadata": {},
   "outputs": [
    {
     "name": "stderr",
     "output_type": "stream",
     "text": [
      "/Users/Furia_Cavallo_Del_West/.virtualenvs/thesis2/lib/python3.8/site-packages/numpy/linalg/linalg.py:2516: RuntimeWarning: overflow encountered in power\n",
      "  ret **= (1 / ord)\n"
     ]
    }
   ],
   "source": [
    "res_nonnorm = best_mu(X_mean0, 0.0001, 0.05)\n",
    "res_norm = best_mu(A, 0.0001, 0.05)\n",
    "\n",
    "print(f\"non-norm best:\\t{res_nonnorm[0]}\")\n",
    "print(f\"non-norm mu:\\t{res_nonnorm[1]}\")\n",
    "print(f\"norm best:\\t{res_norm[0]}\")\n",
    "print(f\"norm mu:\\t{res_norm[1]}\")"
   ]
  },
  {
   "cell_type": "code",
   "execution_count": null,
   "metadata": {},
   "outputs": [],
   "source": []
  }
 ],
 "metadata": {
  "kernelspec": {
   "display_name": "Python 3",
   "language": "python",
   "name": "python3"
  },
  "language_info": {
   "codemirror_mode": {
    "name": "ipython",
    "version": 3
   },
   "file_extension": ".py",
   "mimetype": "text/x-python",
   "name": "python",
   "nbconvert_exporter": "python",
   "pygments_lexer": "ipython3",
   "version": "3.8.9"
  }
 },
 "nbformat": 4,
 "nbformat_minor": 4
}
