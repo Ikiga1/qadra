{
 "cells": [
  {
   "cell_type": "code",
   "execution_count": 1,
   "metadata": {},
   "outputs": [],
   "source": [
    "from sklearn.datasets import fetch_openml\n",
    "from matplotlib import pyplot as plt\n",
    "from sklearn import decomposition\n",
    "import numpy as np\n",
    "%matplotlib inline\n",
    "import matplotlib\n",
    "import math\n",
    "\n",
    "plt.rcParams['font.size'] = '12'"
   ]
  },
  {
   "cell_type": "code",
   "execution_count": 2,
   "metadata": {},
   "outputs": [],
   "source": [
    "## Computing the full singular value decomposition for the CIFAR_10 dataset\n",
    "X, y = fetch_openml('CIFAR_10', return_X_y=True)\n",
    "\n",
    "#Remove mean before applying PCA\n",
    "X_mean0 = np.array(X - np.mean(X, axis = 0))\n",
    "\n",
    "U, E, V_T = np.linalg.svd(X_mean0, full_matrices=False)\n",
    "E2 = np.array([pow(e,2) for e in E]) # Computing the powers of 2\n",
    "E3 = E2/np.sum(E2) # Computing the Factor score ratios"
   ]
  },
  {
   "cell_type": "code",
   "execution_count": 3,
   "metadata": {},
   "outputs": [
    {
     "data": {
      "text/plain": [
       "(True, True)"
      ]
     },
     "execution_count": 3,
     "metadata": {},
     "output_type": "execute_result"
    }
   ],
   "source": [
    "np.allclose(X_mean0, U@np.diag(E)@V_T), np.isclose(np.sum(E3), 1)"
   ]
  },
  {
   "cell_type": "code",
   "execution_count": 4,
   "metadata": {},
   "outputs": [],
   "source": [
    "def find_index(vector, p):\n",
    "    sum_ = 0\n",
    "    i = 0\n",
    "    while (sum_ < p):\n",
    "        sum_ += vector[i]\n",
    "        i += 1\n",
    "    return i\n",
    "\n",
    "def compute_lambda(A, APCA, p):\n",
    "    lambda_ = 0\n",
    "    for i in range(A.shape[0]):\n",
    "        norma = np.linalg.norm(APCA[i])/np.linalg.norm(A[i])\n",
    "        if (norma > p or np.isclose(norma, p)):\n",
    "            lambda_ += 1\n",
    "    return lambda_/A.shape[0]\n",
    "        \n",
    "lambdas = []\n",
    "p_list = [0.1, 0.2, 0.3, 0.4, 0.5, 0.6, 0.7, 0.8, 0.9, 1]\n",
    "for p in p_list:\n",
    "    k = find_index(E3, p)\n",
    "    V_TK = V_T[:k]\n",
    "    PCA_MAT = X_mean0@V_TK.T\n",
    "    lambdas.append(compute_lambda(X_mean0, PCA_MAT, p))\n"
   ]
  },
  {
   "cell_type": "code",
   "execution_count": 5,
   "metadata": {},
   "outputs": [
    {
     "data": {
      "image/png": "[encoded data removed]",
      "text/plain": [
       "<Figure size 432x288 with 1 Axes>"
      ]
     },
     "metadata": {
      "needs_background": "light"
     },
     "output_type": "display_data"
    }
   ],
   "source": [
    "plt.plot(p_list, lambdas, color=\"crimson\")\n",
    "plt.grid()\n",
    "\n",
    "plt.xlabel(r\"p\")\n",
    "plt.ylabel(r\"$\\lambda$\")\n",
    "plt.savefig('CIFAR10_lamba_computation.pdf', bbox_inches='tight')"
   ]
  },
  {
   "cell_type": "code",
   "execution_count": 6,
   "metadata": {},
   "outputs": [
    {
     "data": {
      "text/plain": [
       "0.851755"
      ]
     },
     "execution_count": 6,
     "metadata": {},
     "output_type": "execute_result"
    }
   ],
   "source": [
    "np.mean(lambdas)"
   ]
  },
  {
   "cell_type": "code",
   "execution_count": null,
   "metadata": {},
   "outputs": [],
   "source": []
  }
 ],
 "metadata": {
  "kernelspec": {
   "display_name": "Python 3",
   "language": "python",
   "name": "python3"
  },
  "language_info": {
   "codemirror_mode": {
    "name": "ipython",
    "version": 3
   },
   "file_extension": ".py",
   "mimetype": "text/x-python",
   "name": "python",
   "nbconvert_exporter": "python",
   "pygments_lexer": "ipython3",
   "version": "3.8.9"
  }
 },
 "nbformat": 4,
 "nbformat_minor": 4
}
